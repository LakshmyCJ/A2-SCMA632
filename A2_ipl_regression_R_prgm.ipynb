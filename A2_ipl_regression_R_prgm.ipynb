{
  "cells": [
    {
      "cell_type": "code",
      "source": [
        "%load_ext rpy2.ipython"
      ],
      "metadata": {
        "collapsed": true,
        "id": "2krvc3ClpFgK"
      },
      "id": "2krvc3ClpFgK",
      "execution_count": 1,
      "outputs": []
    },
    {
      "cell_type": "code",
      "execution_count": 2,
      "id": "dc6486ba",
      "metadata": {
        "ExecuteTime": {
          "end_time": "2024-06-23T05:58:09.443267Z",
          "start_time": "2024-06-23T05:58:07.847363Z"
        },
        "collapsed": true,
        "id": "dc6486ba",
        "colab": {
          "base_uri": "https://localhost:8080/"
        },
        "outputId": "e538bfd4-10b6-46e0-fba8-6f59d72ddc52"
      },
      "outputs": [
        {
          "output_type": "stream",
          "name": "stderr",
          "text": [
            "WARNING:rpy2.rinterface_lib.callbacks:R[write to console]: \n",
            "Attaching package: ‘dplyr’\n",
            "\n",
            "\n",
            "WARNING:rpy2.rinterface_lib.callbacks:R[write to console]: The following objects are masked from ‘package:stats’:\n",
            "\n",
            "    filter, lag\n",
            "\n",
            "\n",
            "WARNING:rpy2.rinterface_lib.callbacks:R[write to console]: The following objects are masked from ‘package:base’:\n",
            "\n",
            "    intersect, setdiff, setequal, union\n",
            "\n",
            "\n"
          ]
        }
      ],
      "source": [
        "%%R\n",
        "library(readxl)\n",
        "library(dplyr)"
      ]
    },
    {
      "cell_type": "code",
      "execution_count": 5,
      "id": "54fc1e8f",
      "metadata": {
        "ExecuteTime": {
          "end_time": "2024-06-23T05:58:14.403861Z",
          "start_time": "2024-06-23T05:58:11.597062Z"
        },
        "id": "54fc1e8f",
        "collapsed": true
      },
      "outputs": [],
      "source": [
        "%%R\n",
        "df_ipl=read.csv(\"/content/IPL_ball_by_ball_updated till 2024 (1).csv\")\n",
        "salary =read_excel(\"IPL SALARIES 2024.xlsx\")"
      ]
    },
    {
      "cell_type": "code",
      "source": [
        "%%R\n",
        "head(df_ipl)"
      ],
      "metadata": {
        "colab": {
          "base_uri": "https://localhost:8080/"
        },
        "id": "sDoWs_-4qfHB",
        "outputId": "14b0f17f-8334-42cb-f089-a95da0bdfc9b"
      },
      "id": "sDoWs_-4qfHB",
      "execution_count": 6,
      "outputs": [
        {
          "output_type": "stream",
          "name": "stdout",
          "text": [
            "  Match.id       Date  Season          Batting.team                Bowling.team\n",
            "1   335982 18-04-2008 2007/08 Kolkata Knight Riders Royal Challengers Bangalore\n",
            "2   335982 18-04-2008 2007/08 Kolkata Knight Riders Royal Challengers Bangalore\n",
            "3   335982 18-04-2008 2007/08 Kolkata Knight Riders Royal Challengers Bangalore\n",
            "4   335982 18-04-2008 2007/08 Kolkata Knight Riders Royal Challengers Bangalore\n",
            "5   335982 18-04-2008 2007/08 Kolkata Knight Riders Royal Challengers Bangalore\n",
            "6   335982 18-04-2008 2007/08 Kolkata Knight Riders Royal Challengers Bangalore\n",
            "  Innings.No Ball.No  Bowler     Striker Non.Striker runs_scored extras\n",
            "1          1     0.1 P Kumar  SC Ganguly BB McCullum           0      1\n",
            "2          1     0.2 P Kumar BB McCullum  SC Ganguly           0      0\n",
            "3          1     0.2 P Kumar BB McCullum  SC Ganguly           0      1\n",
            "4          1     0.3 P Kumar BB McCullum  SC Ganguly           0      0\n",
            "5          1     0.4 P Kumar BB McCullum  SC Ganguly           0      0\n",
            "6          1     0.5 P Kumar BB McCullum  SC Ganguly           0      0\n",
            "  type.of.extras score score.wicket wicket_confirmation wicket_type\n",
            "1        legbyes     1          1/0                   0            \n",
            "2                    1          1/0                   0            \n",
            "3          wides     2          2/0                   0            \n",
            "4                    2          2/0                   0            \n",
            "5                    2          2/0                   0            \n",
            "6                    2          2/0                   0            \n",
            "  fielders_involved Player.Out\n",
            "1                             \n",
            "2                             \n",
            "3                             \n",
            "4                             \n",
            "5                             \n",
            "6                             \n"
          ]
        }
      ]
    },
    {
      "cell_type": "code",
      "execution_count": 7,
      "id": "c3c83c15",
      "metadata": {
        "ExecuteTime": {
          "end_time": "2024-06-23T05:58:15.482309Z",
          "start_time": "2024-06-23T05:58:15.472875Z"
        },
        "colab": {
          "base_uri": "https://localhost:8080/"
        },
        "collapsed": true,
        "id": "c3c83c15",
        "outputId": "4cf887af-e989-43ee-b474-dcc8df79eda9"
      },
      "outputs": [
        {
          "output_type": "stream",
          "name": "stdout",
          "text": [
            " [1] \"Match.id\"            \"Date\"                \"Season\"             \n",
            " [4] \"Batting.team\"        \"Bowling.team\"        \"Innings.No\"         \n",
            " [7] \"Ball.No\"             \"Bowler\"              \"Striker\"            \n",
            "[10] \"Non.Striker\"         \"runs_scored\"         \"extras\"             \n",
            "[13] \"type.of.extras\"      \"score\"               \"score.wicket\"       \n",
            "[16] \"wicket_confirmation\" \"wicket_type\"         \"fielders_involved\"  \n",
            "[19] \"Player.Out\"         \n"
          ]
        }
      ],
      "source": [
        "%%R\n",
        "colnames(df_ipl)"
      ]
    },
    {
      "cell_type": "code",
      "source": [
        "%%R\n",
        "# Grouping and Summarizing the Data\n",
        "grouped_data <- df_ipl %>%\n",
        "  group_by(Season, Innings.No, Striker, Bowler) %>%\n",
        "  summarise(\n",
        "    runs_scored = sum(runs_scored, na.rm = TRUE),\n",
        "    wicket_confirmation = sum(wicket_confirmation, na.rm = TRUE)\n",
        "  ) %>%\n",
        "  ungroup()"
      ],
      "metadata": {
        "colab": {
          "base_uri": "https://localhost:8080/"
        },
        "id": "WxsLrfbeppZg",
        "outputId": "7d99a31c-5dba-4176-fff7-40f00ac529d1"
      },
      "id": "WxsLrfbeppZg",
      "execution_count": 8,
      "outputs": [
        {
          "output_type": "stream",
          "name": "stdout",
          "text": [
            "`summarise()` has grouped output by 'Season', 'Innings.No', 'Striker'. You can\n",
            "override using the `.groups` argument.\n"
          ]
        }
      ]
    },
    {
      "cell_type": "code",
      "execution_count": 9,
      "id": "4e46e04d",
      "metadata": {
        "ExecuteTime": {
          "end_time": "2024-06-23T05:58:19.160116Z",
          "start_time": "2024-06-23T05:58:19.010788Z"
        },
        "colab": {
          "base_uri": "https://localhost:8080/"
        },
        "id": "4e46e04d",
        "outputId": "d5ec09ad-ed13-4479-aae9-891f19ab0be6"
      },
      "outputs": [
        {
          "output_type": "stream",
          "name": "stdout",
          "text": [
            "# A tibble: 8,288 × 6\n",
            "   Season  Innings.No Striker  Bowler        runs_scored wicket_confirmation\n",
            "   <chr>        <int> <chr>    <chr>               <int>               <int>\n",
            " 1 2007/08          1 A Chopra DP Vijaykumar           1                   0\n",
            " 2 2007/08          1 A Chopra DW Steyn                1                   1\n",
            " 3 2007/08          1 A Chopra GD McGrath              2                   0\n",
            " 4 2007/08          1 A Chopra PJ Sangwan              6                   1\n",
            " 5 2007/08          1 A Chopra RP Singh                9                   0\n",
            " 6 2007/08          1 A Chopra SB Bangar               9                   0\n",
            " 7 2007/08          1 A Chopra SB Styris               1                   0\n",
            " 8 2007/08          1 A Chopra SM Pollock              1                   0\n",
            " 9 2007/08          1 A Chopra VY Mahesh               5                   0\n",
            "10 2007/08          1 A Chopra WPUJC Vaas              1                   0\n",
            "# ℹ 8,278 more rows\n",
            "# ℹ Use `print(n = ...)` to see more rows\n"
          ]
        }
      ],
      "source": [
        "%%R\n",
        "grouped_data"
      ]
    },
    {
      "cell_type": "code",
      "source": [
        "%%R\n",
        "# Calculate total runs each year\n",
        "total_runs_each_year <- grouped_data %>%\n",
        "  group_by(Season, Striker) %>%\n",
        "  summarise(total_runs = sum(runs_scored, na.rm = TRUE)) %>%\n",
        "  ungroup()\n",
        "\n",
        "#calculate total wickets each year\n",
        "total_wicket_each_year <- grouped_data %>%\n",
        "  group_by(Season, Bowler) %>%\n",
        "  summarise(total_wickets = sum(wicket_confirmation, na.rm = TRUE)) %>%\n",
        "  ungroup()"
      ],
      "metadata": {
        "colab": {
          "base_uri": "https://localhost:8080/"
        },
        "id": "zJGUXyZtr5np",
        "outputId": "f68e6f3e-abb4-4718-be68-6e3501003a1b"
      },
      "id": "zJGUXyZtr5np",
      "execution_count": 10,
      "outputs": [
        {
          "output_type": "stream",
          "name": "stdout",
          "text": [
            "`summarise()` has grouped output by 'Season'. You can override using the\n",
            "`.groups` argument.\n",
            "`summarise()` has grouped output by 'Season'. You can override using the\n",
            "`.groups` argument.\n"
          ]
        }
      ]
    },
    {
      "cell_type": "code",
      "execution_count": 11,
      "id": "22688323",
      "metadata": {
        "ExecuteTime": {
          "end_time": "2024-06-23T05:58:24.948852Z",
          "start_time": "2024-06-23T05:58:24.933210Z"
        },
        "colab": {
          "base_uri": "https://localhost:8080/"
        },
        "id": "22688323",
        "outputId": "cea6244c-27cb-40e9-96e2-97fe2133085d"
      },
      "outputs": [
        {
          "output_type": "stream",
          "name": "stdout",
          "text": [
            "# A tibble: 541 × 3\n",
            "   Season  Striker        total_runs\n",
            "   <chr>   <chr>               <int>\n",
            " 1 2007/08 A Chopra               42\n",
            " 2 2007/08 A Kumble               13\n",
            " 3 2007/08 A Mishra               37\n",
            " 4 2007/08 A Mukund                0\n",
            " 5 2007/08 A Nehra                 3\n",
            " 6 2007/08 A Symonds             161\n",
            " 7 2007/08 AA Noffke               9\n",
            " 8 2007/08 AB Agarkar             54\n",
            " 9 2007/08 AB Dinda                2\n",
            "10 2007/08 AB de Villiers         95\n",
            "# ℹ 531 more rows\n",
            "# ℹ Use `print(n = ...)` to see more rows\n"
          ]
        }
      ],
      "source": [
        "%%R\n",
        "total_runs_each_year"
      ]
    },
    {
      "cell_type": "code",
      "source": [
        "%%R\n",
        "total_wicket_each_year"
      ],
      "metadata": {
        "colab": {
          "base_uri": "https://localhost:8080/"
        },
        "id": "Df9cemC2saVp",
        "outputId": "3e628213-546d-4ff0-8204-71e8b7096cda"
      },
      "id": "Df9cemC2saVp",
      "execution_count": 12,
      "outputs": [
        {
          "output_type": "stream",
          "name": "stdout",
          "text": [
            "# A tibble: 400 × 3\n",
            "   Season  Bowler         total_wickets\n",
            "   <chr>   <chr>                  <int>\n",
            " 1 2007/08 A Kumble                   8\n",
            " 2 2007/08 A Mishra                  11\n",
            " 3 2007/08 A Nehra                   14\n",
            " 4 2007/08 A Nel                      1\n",
            " 5 2007/08 A Symonds                  0\n",
            " 6 2007/08 AA Noffke                  1\n",
            " 7 2007/08 AB Agarkar                 8\n",
            " 8 2007/08 AB Dinda                  11\n",
            " 9 2007/08 AD Mascarenhas             2\n",
            "10 2007/08 AM Nayar                   1\n",
            "# ℹ 390 more rows\n",
            "# ℹ Use `print(n = ...)` to see more rows\n"
          ]
        }
      ]
    },
    {
      "cell_type": "code",
      "source": [
        "%%R\n",
        "install.packages(\"stringdist\")\n",
        "\n",
        "# Function to match names using stringdist package\n",
        "match_names <- function(name, names_list) {\n",
        "  dist <- stringdist::stringdist(name, names_list, method = \"jw\")\n",
        "  match <- names_list[which.min(dist)]\n",
        "  score <- 1 - min(dist)\n",
        "  return(ifelse(score >= 0.8, match, NA)) # Use a threshold score of 0.8\n",
        "}\n",
        "\n",
        "# Apply fuzzy matching to match names\n",
        "salary$Matched_Player <- sapply(salary$Player, match_names, names_list = total_runs_each_year$Striker)\n",
        "\n",
        "# Merge the DataFrames on the matched names\n",
        "df_merged <- merge(salary, total_runs_each_year, by.x = \"Matched_Player\", by.y = \"Striker\")\n"
      ],
      "metadata": {
        "colab": {
          "base_uri": "https://localhost:8080/"
        },
        "collapsed": true,
        "id": "tInAUUpMskwt",
        "outputId": "43fbe092-7ba4-46a9-e392-83809426b938"
      },
      "id": "tInAUUpMskwt",
      "execution_count": 17,
      "outputs": [
        {
          "output_type": "stream",
          "name": "stderr",
          "text": [
            "WARNING:rpy2.rinterface_lib.callbacks:R[write to console]: Installing package into ‘/usr/local/lib/R/site-library’\n",
            "(as ‘lib’ is unspecified)\n",
            "\n",
            "WARNING:rpy2.rinterface_lib.callbacks:R[write to console]: trying URL 'https://cran.rstudio.com/src/contrib/stringdist_0.9.12.tar.gz'\n",
            "\n",
            "WARNING:rpy2.rinterface_lib.callbacks:R[write to console]: Content type 'application/x-gzip'\n",
            "WARNING:rpy2.rinterface_lib.callbacks:R[write to console]:  length 862306 bytes (842 KB)\n",
            "\n",
            "WARNING:rpy2.rinterface_lib.callbacks:R[write to console]: =\n",
            "WARNING:rpy2.rinterface_lib.callbacks:R[write to console]: =\n",
            "WARNING:rpy2.rinterface_lib.callbacks:R[write to console]: =\n",
            "WARNING:rpy2.rinterface_lib.callbacks:R[write to console]: =\n",
            "WARNING:rpy2.rinterface_lib.callbacks:R[write to console]: =\n",
            "WARNING:rpy2.rinterface_lib.callbacks:R[write to console]: =\n",
            "WARNING:rpy2.rinterface_lib.callbacks:R[write to console]: =\n",
            "WARNING:rpy2.rinterface_lib.callbacks:R[write to console]: =\n",
            "WARNING:rpy2.rinterface_lib.callbacks:R[write to console]: =\n",
            "WARNING:rpy2.rinterface_lib.callbacks:R[write to console]: =\n",
            "WARNING:rpy2.rinterface_lib.callbacks:R[write to console]: =\n",
            "WARNING:rpy2.rinterface_lib.callbacks:R[write to console]: =\n",
            "WARNING:rpy2.rinterface_lib.callbacks:R[write to console]: =\n",
            "WARNING:rpy2.rinterface_lib.callbacks:R[write to console]: =\n",
            "WARNING:rpy2.rinterface_lib.callbacks:R[write to console]: =\n",
            "WARNING:rpy2.rinterface_lib.callbacks:R[write to console]: =\n",
            "WARNING:rpy2.rinterface_lib.callbacks:R[write to console]: =\n",
            "WARNING:rpy2.rinterface_lib.callbacks:R[write to console]: =\n",
            "WARNING:rpy2.rinterface_lib.callbacks:R[write to console]: =\n",
            "WARNING:rpy2.rinterface_lib.callbacks:R[write to console]: =\n",
            "WARNING:rpy2.rinterface_lib.callbacks:R[write to console]: =\n",
            "WARNING:rpy2.rinterface_lib.callbacks:R[write to console]: =\n",
            "WARNING:rpy2.rinterface_lib.callbacks:R[write to console]: =\n",
            "WARNING:rpy2.rinterface_lib.callbacks:R[write to console]: =\n",
            "WARNING:rpy2.rinterface_lib.callbacks:R[write to console]: =\n",
            "WARNING:rpy2.rinterface_lib.callbacks:R[write to console]: =\n",
            "WARNING:rpy2.rinterface_lib.callbacks:R[write to console]: =\n",
            "WARNING:rpy2.rinterface_lib.callbacks:R[write to console]: =\n",
            "WARNING:rpy2.rinterface_lib.callbacks:R[write to console]: =\n",
            "WARNING:rpy2.rinterface_lib.callbacks:R[write to console]: =\n",
            "WARNING:rpy2.rinterface_lib.callbacks:R[write to console]: =\n",
            "WARNING:rpy2.rinterface_lib.callbacks:R[write to console]: =\n",
            "WARNING:rpy2.rinterface_lib.callbacks:R[write to console]: =\n",
            "WARNING:rpy2.rinterface_lib.callbacks:R[write to console]: =\n",
            "WARNING:rpy2.rinterface_lib.callbacks:R[write to console]: =\n",
            "WARNING:rpy2.rinterface_lib.callbacks:R[write to console]: =\n",
            "WARNING:rpy2.rinterface_lib.callbacks:R[write to console]: =\n",
            "WARNING:rpy2.rinterface_lib.callbacks:R[write to console]: =\n",
            "WARNING:rpy2.rinterface_lib.callbacks:R[write to console]: =\n",
            "WARNING:rpy2.rinterface_lib.callbacks:R[write to console]: =\n",
            "WARNING:rpy2.rinterface_lib.callbacks:R[write to console]: =\n",
            "WARNING:rpy2.rinterface_lib.callbacks:R[write to console]: =\n",
            "WARNING:rpy2.rinterface_lib.callbacks:R[write to console]: =\n",
            "WARNING:rpy2.rinterface_lib.callbacks:R[write to console]: =\n",
            "WARNING:rpy2.rinterface_lib.callbacks:R[write to console]: =\n",
            "WARNING:rpy2.rinterface_lib.callbacks:R[write to console]: =\n",
            "WARNING:rpy2.rinterface_lib.callbacks:R[write to console]: =\n",
            "WARNING:rpy2.rinterface_lib.callbacks:R[write to console]: =\n",
            "WARNING:rpy2.rinterface_lib.callbacks:R[write to console]: =\n",
            "WARNING:rpy2.rinterface_lib.callbacks:R[write to console]: =\n",
            "WARNING:rpy2.rinterface_lib.callbacks:R[write to console]: \n",
            "\n",
            "WARNING:rpy2.rinterface_lib.callbacks:R[write to console]: downloaded 842 KB\n",
            "\n",
            "\n",
            "WARNING:rpy2.rinterface_lib.callbacks:R[write to console]: \n",
            "\n",
            "WARNING:rpy2.rinterface_lib.callbacks:R[write to console]: \n",
            "WARNING:rpy2.rinterface_lib.callbacks:R[write to console]: The downloaded source packages are in\n",
            "\t‘/tmp/RtmpeMfYui/downloaded_packages’\n",
            "WARNING:rpy2.rinterface_lib.callbacks:R[write to console]: \n",
            "WARNING:rpy2.rinterface_lib.callbacks:R[write to console]: \n",
            "\n"
          ]
        }
      ]
    },
    {
      "cell_type": "code",
      "source": [
        "%%R\n",
        "# Subset data for the last three years\n",
        "df_merged <- df_merged %>%\n",
        "  filter(Season %in% c(\"2021\", \"2022\", \"2023\"))\n",
        "\n",
        "# Check the unique seasons\n",
        "unique(df_merged$Season)\n"
      ],
      "metadata": {
        "colab": {
          "base_uri": "https://localhost:8080/"
        },
        "id": "_mW-luYEsroU",
        "outputId": "a104fe52-04f3-4977-9d92-96d4db314873"
      },
      "id": "_mW-luYEsroU",
      "execution_count": 14,
      "outputs": [
        {
          "output_type": "stream",
          "name": "stdout",
          "text": [
            "character(0)\n"
          ]
        }
      ]
    },
    {
      "cell_type": "code",
      "source": [
        "%%R\n",
        "print(colnames(df_merged))"
      ],
      "metadata": {
        "colab": {
          "base_uri": "https://localhost:8080/"
        },
        "id": "xq_wbzwC_SYt",
        "outputId": "b874879d-6628-44b7-bd14-dd4f7e726719"
      },
      "id": "xq_wbzwC_SYt",
      "execution_count": 15,
      "outputs": [
        {
          "output_type": "stream",
          "name": "stdout",
          "text": [
            "[1] \"Matched_Player\" \"Player\"         \"Salary\"         \"Rs\"            \n",
            "[5] \"international\"  \"iconic\"         \"Season\"         \"total_runs\"    \n"
          ]
        }
      ]
    },
    {
      "cell_type": "code",
      "source": [
        "%%R\n",
        "# Independent and dependent variables\n",
        "X <- df_merged$total_runs\n",
        "y <- df_merged$Rs\n",
        "\n",
        "# Split the data into training and test sets (80% for training, 20% for testing)\n",
        "set.seed(42)\n",
        "train_indices <- sample(seq_len(nrow(df_merged)), size = 0.8 * nrow(df_merged))\n",
        "train_data <- df_merged[train_indices, ]\n",
        "test_data <- df_merged[-train_indices, ]\n",
        "\n",
        "# OLS regression model\n",
        "model <- lm(Rs ~ total_runs, data = train_data)\n",
        "\n",
        "# Summary of the regression model\n",
        "summary(model)\n",
        "\n",
        "# Using the broom package to get tidy output\n",
        "tidy_model <- broom::tidy(model)\n",
        "print(tidy_model)\n",
        "\n",
        "# Predicting on the test set\n",
        "predictions <- predict(model, newdata = test_data)\n",
        "\n",
        "# Calculate R-squared and Mean Absolute Percentage Error\n",
        "r_squared <- summary(model)$r.squared\n",
        "mape <- mean(abs((test_data$Rs - predictions) / test_data$Rs)) * 100\n",
        "\n",
        "# Print metrics\n",
        "cat(\"R-squared:\", r_squared, \"\\n\")\n",
        "cat(\"MAPE:\", mape, \"\\n\")\n"
      ],
      "metadata": {
        "colab": {
          "base_uri": "https://localhost:8080/"
        },
        "id": "6NxU8WQ1tlPs",
        "outputId": "e59c57cb-346a-4316-b66e-d0ef4149da1b"
      },
      "id": "6NxU8WQ1tlPs",
      "execution_count": 18,
      "outputs": [
        {
          "output_type": "stream",
          "name": "stdout",
          "text": [
            "# A tibble: 2 × 5\n",
            "  term        estimate std.error statistic p.value\n",
            "  <chr>          <dbl>     <dbl>     <dbl>   <dbl>\n",
            "1 (Intercept)   399.     135.         2.96 0.00832\n",
            "2 total_runs      2.56     0.793      3.23 0.00468\n",
            "R-squared: 0.3664739 \n",
            "MAPE: 345.5741 \n"
          ]
        }
      ]
    },
    {
      "cell_type": "code",
      "source": [
        "%%R\n",
        "# Apply fuzzy matching to match names for wickets\n",
        "salary$Matched_Player <- sapply(salary$Player, match_names, names_list =total_wicket_each_year$Bowler)\n",
        "\n",
        "# Merge the DataFrames on the matched names\n",
        "df_merged <- merge(salary,total_wicket_each_year, by.x = \"Matched_Player\", by.y = \"Bowler\")\n"
      ],
      "metadata": {
        "id": "W1NuGlBnS5xo"
      },
      "id": "W1NuGlBnS5xo",
      "execution_count": 21,
      "outputs": []
    },
    {
      "cell_type": "code",
      "source": [
        "%%R\n",
        "# Independent and dependent variables in wickets\n",
        "X <- df_merged$total_wickets\n",
        "y <- df_merged$Rs\n",
        "\n",
        "# Split the data into training and test sets (80% for training, 20% for testing)\n",
        "set.seed(42)\n",
        "train_indices <- sample(seq_len(nrow(df_merged)), size = 0.8 * nrow(df_merged))\n",
        "train_data <- df_merged[train_indices, ]\n",
        "test_data <- df_merged[-train_indices, ]\n",
        "\n",
        "# OLS regression model\n",
        "model <- lm(Rs ~ total_wickets, data = train_data)\n",
        "\n",
        "# Summary of the regression model\n",
        "summary(model)\n",
        "\n",
        "# Using the broom package to get tidy output\n",
        "tidy_model <- broom::tidy(model)\n",
        "print(tidy_model)\n",
        "\n",
        "# Predicting on the test set\n",
        "predictions <- predict(model, newdata = test_data)\n",
        "\n",
        "# Calculate R-squared and Mean Absolute Percentage Error\n",
        "r_squared <- summary(model)$r.squared\n",
        "mape <- mean(abs((test_data$Rs - predictions) / test_data$Rs)) * 100\n",
        "\n",
        "# Print metrics\n",
        "cat(\"R-squared:\", r_squared, \"\\n\")\n",
        "cat(\"MAPE:\", mape, \"\\n\")"
      ],
      "metadata": {
        "colab": {
          "base_uri": "https://localhost:8080/"
        },
        "id": "dSqWmniK9vrM",
        "outputId": "645391cd-5ae6-49fe-ddf8-d9a6b520a94f"
      },
      "id": "dSqWmniK9vrM",
      "execution_count": 22,
      "outputs": [
        {
          "output_type": "stream",
          "name": "stdout",
          "text": [
            "# A tibble: 2 × 5\n",
            "  term          estimate std.error statistic p.value\n",
            "  <chr>            <dbl>     <dbl>     <dbl>   <dbl>\n",
            "1 (Intercept)     1038.      249.       4.17 0.00131\n",
            "2 total_wickets    -65.8      33.8     -1.95 0.0755 \n",
            "R-squared: 0.2398259 \n",
            "MAPE: 223.6831 \n"
          ]
        }
      ]
    },
    {
      "cell_type": "code",
      "source": [
        "#OLS for predicting salary of bowlers\n"
      ],
      "metadata": {
        "id": "2GAi0OL_9wSd"
      },
      "id": "2GAi0OL_9wSd",
      "execution_count": null,
      "outputs": []
    },
    {
      "cell_type": "code",
      "source": [],
      "metadata": {
        "id": "iE2c6MBkS2cI"
      },
      "id": "iE2c6MBkS2cI",
      "execution_count": null,
      "outputs": []
    }
  ],
  "metadata": {
    "kernelspec": {
      "display_name": "Python 3 (ipykernel)",
      "language": "python",
      "name": "python3"
    },
    "language_info": {
      "codemirror_mode": {
        "name": "ipython",
        "version": 3
      },
      "file_extension": ".py",
      "mimetype": "text/x-python",
      "name": "python",
      "nbconvert_exporter": "python",
      "pygments_lexer": "ipython3",
      "version": "3.11.5"
    },
    "varInspector": {
      "cols": {
        "lenName": 16,
        "lenType": 16,
        "lenVar": 40
      },
      "kernels_config": {
        "python": {
          "delete_cmd_postfix": "",
          "delete_cmd_prefix": "del ",
          "library": "var_list.py",
          "varRefreshCmd": "print(var_dic_list())"
        },
        "r": {
          "delete_cmd_postfix": ") ",
          "delete_cmd_prefix": "rm(",
          "library": "var_list.r",
          "varRefreshCmd": "cat(var_dic_list()) "
        }
      },
      "types_to_exclude": [
        "module",
        "function",
        "builtin_function_or_method",
        "instance",
        "_Feature"
      ],
      "window_display": false
    },
    "colab": {
      "provenance": []
    }
  },
  "nbformat": 4,
  "nbformat_minor": 5
}