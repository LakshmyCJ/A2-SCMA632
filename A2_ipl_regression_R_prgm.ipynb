{
  "cells": [
    {
      "cell_type": "code",
      "source": [
        "%load_ext rpy2.ipython"
      ],
      "metadata": {
        "colab": {
          "base_uri": "https://localhost:8080/"
        },
        "collapsed": true,
        "id": "2krvc3ClpFgK",
        "outputId": "e3c39baa-7809-4ff0-8a84-8301743d1158"
      },
      "id": "2krvc3ClpFgK",
      "execution_count": 62,
      "outputs": [
        {
          "output_type": "stream",
          "name": "stdout",
          "text": [
            "The rpy2.ipython extension is already loaded. To reload it, use:\n",
            "  %reload_ext rpy2.ipython\n"
          ]
        }
      ]
    },
    {
      "cell_type": "code",
      "execution_count": 63,
      "id": "dc6486ba",
      "metadata": {
        "ExecuteTime": {
          "end_time": "2024-06-23T05:58:09.443267Z",
          "start_time": "2024-06-23T05:58:07.847363Z"
        },
        "collapsed": true,
        "id": "dc6486ba"
      },
      "outputs": [],
      "source": [
        "%%R\n",
        "library(readxl)\n",
        "library(dplyr)"
      ]
    },
    {
      "cell_type": "code",
      "execution_count": 64,
      "id": "54fc1e8f",
      "metadata": {
        "ExecuteTime": {
          "end_time": "2024-06-23T05:58:14.403861Z",
          "start_time": "2024-06-23T05:58:11.597062Z"
        },
        "id": "54fc1e8f"
      },
      "outputs": [],
      "source": [
        "%%R\n",
        "df_ipl=read.csv(\"IPL_ball_by_ball_updated till 2024.csv\")\n",
        "salary =read_excel(\"IPL SALARIES 2024.xlsx\")"
      ]
    },
    {
      "cell_type": "code",
      "source": [
        "%%R\n",
        "head(df_ipl)"
      ],
      "metadata": {
        "colab": {
          "base_uri": "https://localhost:8080/"
        },
        "id": "sDoWs_-4qfHB",
        "outputId": "4fc98172-3146-4549-8edd-0d11195924c5"
      },
      "id": "sDoWs_-4qfHB",
      "execution_count": 66,
      "outputs": [
        {
          "output_type": "stream",
          "name": "stdout",
          "text": [
            "  Match.id       Date  Season          Batting.team                Bowling.team\n",
            "1   335982 18-04-2008 2007/08 Kolkata Knight Riders Royal Challengers Bangalore\n",
            "2   335982 18-04-2008 2007/08 Kolkata Knight Riders Royal Challengers Bangalore\n",
            "3   335982 18-04-2008 2007/08 Kolkata Knight Riders Royal Challengers Bangalore\n",
            "4   335982 18-04-2008 2007/08 Kolkata Knight Riders Royal Challengers Bangalore\n",
            "5   335982 18-04-2008 2007/08 Kolkata Knight Riders Royal Challengers Bangalore\n",
            "6   335982 18-04-2008 2007/08 Kolkata Knight Riders Royal Challengers Bangalore\n",
            "  Innings.No Ball.No  Bowler     Striker Non.Striker runs_scored extras\n",
            "1          1     0.1 P Kumar  SC Ganguly BB McCullum           0      1\n",
            "2          1     0.2 P Kumar BB McCullum  SC Ganguly           0      0\n",
            "3          1     0.2 P Kumar BB McCullum  SC Ganguly           0      1\n",
            "4          1     0.3 P Kumar BB McCullum  SC Ganguly           0      0\n",
            "5          1     0.4 P Kumar BB McCullum  SC Ganguly           0      0\n",
            "6          1     0.5 P Kumar BB McCullum  SC Ganguly           0      0\n",
            "  type.of.extras score score.wicket wicket_confirmation wicket_type\n",
            "1        legbyes     1          1/0                   0            \n",
            "2                    1          1/0                   0            \n",
            "3          wides     2          2/0                   0            \n",
            "4                    2          2/0                   0            \n",
            "5                    2          2/0                   0            \n",
            "6                    2          2/0                   0            \n",
            "  fielders_involved Player.Out\n",
            "1                             \n",
            "2                             \n",
            "3                             \n",
            "4                             \n",
            "5                             \n",
            "6                             \n"
          ]
        }
      ]
    },
    {
      "cell_type": "code",
      "execution_count": 67,
      "id": "c3c83c15",
      "metadata": {
        "ExecuteTime": {
          "end_time": "2024-06-23T05:58:15.482309Z",
          "start_time": "2024-06-23T05:58:15.472875Z"
        },
        "colab": {
          "base_uri": "https://localhost:8080/"
        },
        "collapsed": true,
        "id": "c3c83c15",
        "outputId": "4cd9bcd4-924a-4107-c4c5-6b0afb040b41"
      },
      "outputs": [
        {
          "output_type": "stream",
          "name": "stdout",
          "text": [
            " [1] \"Match.id\"            \"Date\"                \"Season\"             \n",
            " [4] \"Batting.team\"        \"Bowling.team\"        \"Innings.No\"         \n",
            " [7] \"Ball.No\"             \"Bowler\"              \"Striker\"            \n",
            "[10] \"Non.Striker\"         \"runs_scored\"         \"extras\"             \n",
            "[13] \"type.of.extras\"      \"score\"               \"score.wicket\"       \n",
            "[16] \"wicket_confirmation\" \"wicket_type\"         \"fielders_involved\"  \n",
            "[19] \"Player.Out\"         \n"
          ]
        }
      ],
      "source": [
        "%%R\n",
        "colnames(df_ipl)"
      ]
    },
    {
      "cell_type": "code",
      "source": [
        "%%R\n",
        "# Grouping and Summarizing the Data\n",
        "grouped_data <- df_ipl %>%\n",
        "  group_by(Season, Innings.No, Striker, Bowler) %>%\n",
        "  summarise(\n",
        "    runs_scored = sum(runs_scored, na.rm = TRUE),\n",
        "    wicket_confirmation = sum(wicket_confirmation, na.rm = TRUE)\n",
        "  ) %>%\n",
        "  ungroup()"
      ],
      "metadata": {
        "colab": {
          "base_uri": "https://localhost:8080/"
        },
        "id": "WxsLrfbeppZg",
        "outputId": "800d81ff-9483-4cce-e735-bc8c2772c38d"
      },
      "id": "WxsLrfbeppZg",
      "execution_count": 69,
      "outputs": [
        {
          "output_type": "stream",
          "name": "stdout",
          "text": [
            "`summarise()` has grouped output by 'Season', 'Innings.No', 'Striker'. You can\n",
            "override using the `.groups` argument.\n"
          ]
        }
      ]
    },
    {
      "cell_type": "code",
      "execution_count": 71,
      "id": "4e46e04d",
      "metadata": {
        "ExecuteTime": {
          "end_time": "2024-06-23T05:58:19.160116Z",
          "start_time": "2024-06-23T05:58:19.010788Z"
        },
        "colab": {
          "base_uri": "https://localhost:8080/"
        },
        "id": "4e46e04d",
        "outputId": "a41368be-4e59-423b-897e-6df43132abf3"
      },
      "outputs": [
        {
          "output_type": "stream",
          "name": "stdout",
          "text": [
            "# A tibble: 48,786 × 6\n",
            "   Season  Innings.No Striker  Bowler        runs_scored wicket_confirmation\n",
            "   <chr>        <int> <chr>    <chr>               <int>               <int>\n",
            " 1 2007/08          1 A Chopra DP Vijaykumar           1                   0\n",
            " 2 2007/08          1 A Chopra DW Steyn                1                   1\n",
            " 3 2007/08          1 A Chopra GD McGrath              2                   0\n",
            " 4 2007/08          1 A Chopra PJ Sangwan              6                   1\n",
            " 5 2007/08          1 A Chopra RP Singh                9                   0\n",
            " 6 2007/08          1 A Chopra SB Bangar               9                   0\n",
            " 7 2007/08          1 A Chopra SB Styris               1                   0\n",
            " 8 2007/08          1 A Chopra SM Pollock              1                   0\n",
            " 9 2007/08          1 A Chopra VY Mahesh               5                   0\n",
            "10 2007/08          1 A Chopra WPUJC Vaas              1                   0\n",
            "# ℹ 48,776 more rows\n",
            "# ℹ Use `print(n = ...)` to see more rows\n"
          ]
        }
      ],
      "source": [
        "%%R\n",
        "grouped_data"
      ]
    },
    {
      "cell_type": "code",
      "source": [
        "%%R\n",
        "# Calculate total runs each year\n",
        "total_runs_each_year <- grouped_data %>%\n",
        "  group_by(Season, Striker) %>%\n",
        "  summarise(total_runs = sum(runs_scored, na.rm = TRUE)) %>%\n",
        "  ungroup()\n",
        "\n",
        "#calculate total wickets each year\n",
        "total_wicket_each_year <- grouped_data %>%\n",
        "  group_by(Season, Bowler) %>%\n",
        "  summarise(total_wickets = sum(wicket_confirmation, na.rm = TRUE)) %>%\n",
        "  ungroup()"
      ],
      "metadata": {
        "colab": {
          "base_uri": "https://localhost:8080/"
        },
        "id": "zJGUXyZtr5np",
        "outputId": "f080ad61-ee2c-40dc-8310-78ad756af8e1"
      },
      "id": "zJGUXyZtr5np",
      "execution_count": 72,
      "outputs": [
        {
          "output_type": "stream",
          "name": "stdout",
          "text": [
            "`summarise()` has grouped output by 'Season'. You can override using the\n",
            "`.groups` argument.\n",
            "`summarise()` has grouped output by 'Season'. You can override using the\n",
            "`.groups` argument.\n"
          ]
        }
      ]
    },
    {
      "cell_type": "code",
      "execution_count": 73,
      "id": "22688323",
      "metadata": {
        "ExecuteTime": {
          "end_time": "2024-06-23T05:58:24.948852Z",
          "start_time": "2024-06-23T05:58:24.933210Z"
        },
        "colab": {
          "base_uri": "https://localhost:8080/"
        },
        "id": "22688323",
        "outputId": "7684b440-f6a9-439f-f77b-18491988f6c6"
      },
      "outputs": [
        {
          "output_type": "stream",
          "name": "stdout",
          "text": [
            "# A tibble: 2,598 × 3\n",
            "   Season  Striker        total_runs\n",
            "   <chr>   <chr>               <int>\n",
            " 1 2007/08 A Chopra               42\n",
            " 2 2007/08 A Kumble               13\n",
            " 3 2007/08 A Mishra               37\n",
            " 4 2007/08 A Mukund                0\n",
            " 5 2007/08 A Nehra                 3\n",
            " 6 2007/08 A Symonds             161\n",
            " 7 2007/08 AA Noffke               9\n",
            " 8 2007/08 AB Agarkar             54\n",
            " 9 2007/08 AB Dinda                2\n",
            "10 2007/08 AB de Villiers         95\n",
            "# ℹ 2,588 more rows\n",
            "# ℹ Use `print(n = ...)` to see more rows\n"
          ]
        }
      ],
      "source": [
        "%%R\n",
        "total_runs_each_year"
      ]
    },
    {
      "cell_type": "code",
      "source": [
        "%%R\n",
        "total_wicket_each_year"
      ],
      "metadata": {
        "colab": {
          "base_uri": "https://localhost:8080/"
        },
        "id": "Df9cemC2saVp",
        "outputId": "65ac35c8-013e-483b-9b14-61f7e498ce8e"
      },
      "id": "Df9cemC2saVp",
      "execution_count": 30,
      "outputs": [
        {
          "output_type": "stream",
          "name": "stdout",
          "text": [
            "# A tibble: 1,929 × 3\n",
            "   Season  Bowler         total_wickets\n",
            "   <chr>   <chr>                  <int>\n",
            " 1 2007/08 A Kumble                   8\n",
            " 2 2007/08 A Mishra                  11\n",
            " 3 2007/08 A Nehra                   14\n",
            " 4 2007/08 A Nel                      1\n",
            " 5 2007/08 A Symonds                  0\n",
            " 6 2007/08 AA Noffke                  1\n",
            " 7 2007/08 AB Agarkar                 8\n",
            " 8 2007/08 AB Dinda                  11\n",
            " 9 2007/08 AD Mascarenhas             2\n",
            "10 2007/08 AM Nayar                   1\n",
            "# ℹ 1,919 more rows\n",
            "# ℹ Use `print(n = ...)` to see more rows\n"
          ]
        }
      ]
    },
    {
      "cell_type": "code",
      "source": [
        "%%R\n",
        "install.packages(\"stringdist\")\n",
        "\n",
        "# Function to match names using stringdist package\n",
        "match_names <- function(name, names_list) {\n",
        "  dist <- stringdist::stringdist(name, names_list, method = \"jw\")\n",
        "  match <- names_list[which.min(dist)]\n",
        "  score <- 1 - min(dist)\n",
        "  return(ifelse(score >= 0.8, match, NA)) # Use a threshold score of 0.8\n",
        "}\n",
        "\n",
        "# Apply fuzzy matching to match names\n",
        "salary$Matched_Player <- sapply(salary$Player, match_names, names_list = total_runs_each_year$Striker)\n",
        "\n",
        "# Merge the DataFrames on the matched names\n",
        "df_merged <- merge(salary, total_runs_each_year, by.x = \"Matched_Player\", by.y = \"Striker\")\n"
      ],
      "metadata": {
        "colab": {
          "base_uri": "https://localhost:8080/"
        },
        "collapsed": true,
        "id": "tInAUUpMskwt",
        "outputId": "a36377dd-716c-4363-8c00-065f9926ad43"
      },
      "id": "tInAUUpMskwt",
      "execution_count": 74,
      "outputs": [
        {
          "output_type": "stream",
          "name": "stderr",
          "text": [
            "WARNING:rpy2.rinterface_lib.callbacks:R[write to console]: Installing package into ‘/usr/local/lib/R/site-library’\n",
            "(as ‘lib’ is unspecified)\n",
            "\n",
            "WARNING:rpy2.rinterface_lib.callbacks:R[write to console]: trying URL 'https://cran.rstudio.com/src/contrib/stringdist_0.9.12.tar.gz'\n",
            "\n",
            "WARNING:rpy2.rinterface_lib.callbacks:R[write to console]: Content type 'application/x-gzip'\n",
            "WARNING:rpy2.rinterface_lib.callbacks:R[write to console]:  length 862306 bytes (842 KB)\n",
            "\n",
            "WARNING:rpy2.rinterface_lib.callbacks:R[write to console]: =\n",
            "WARNING:rpy2.rinterface_lib.callbacks:R[write to console]: =\n",
            "WARNING:rpy2.rinterface_lib.callbacks:R[write to console]: =\n",
            "WARNING:rpy2.rinterface_lib.callbacks:R[write to console]: =\n",
            "WARNING:rpy2.rinterface_lib.callbacks:R[write to console]: =\n",
            "WARNING:rpy2.rinterface_lib.callbacks:R[write to console]: =\n",
            "WARNING:rpy2.rinterface_lib.callbacks:R[write to console]: =\n",
            "WARNING:rpy2.rinterface_lib.callbacks:R[write to console]: =\n",
            "WARNING:rpy2.rinterface_lib.callbacks:R[write to console]: =\n",
            "WARNING:rpy2.rinterface_lib.callbacks:R[write to console]: =\n",
            "WARNING:rpy2.rinterface_lib.callbacks:R[write to console]: =\n",
            "WARNING:rpy2.rinterface_lib.callbacks:R[write to console]: =\n",
            "WARNING:rpy2.rinterface_lib.callbacks:R[write to console]: =\n",
            "WARNING:rpy2.rinterface_lib.callbacks:R[write to console]: =\n",
            "WARNING:rpy2.rinterface_lib.callbacks:R[write to console]: =\n",
            "WARNING:rpy2.rinterface_lib.callbacks:R[write to console]: =\n",
            "WARNING:rpy2.rinterface_lib.callbacks:R[write to console]: =\n",
            "WARNING:rpy2.rinterface_lib.callbacks:R[write to console]: =\n",
            "WARNING:rpy2.rinterface_lib.callbacks:R[write to console]: =\n",
            "WARNING:rpy2.rinterface_lib.callbacks:R[write to console]: =\n",
            "WARNING:rpy2.rinterface_lib.callbacks:R[write to console]: =\n",
            "WARNING:rpy2.rinterface_lib.callbacks:R[write to console]: =\n",
            "WARNING:rpy2.rinterface_lib.callbacks:R[write to console]: =\n",
            "WARNING:rpy2.rinterface_lib.callbacks:R[write to console]: =\n",
            "WARNING:rpy2.rinterface_lib.callbacks:R[write to console]: =\n",
            "WARNING:rpy2.rinterface_lib.callbacks:R[write to console]: =\n",
            "WARNING:rpy2.rinterface_lib.callbacks:R[write to console]: =\n",
            "WARNING:rpy2.rinterface_lib.callbacks:R[write to console]: =\n",
            "WARNING:rpy2.rinterface_lib.callbacks:R[write to console]: =\n",
            "WARNING:rpy2.rinterface_lib.callbacks:R[write to console]: =\n",
            "WARNING:rpy2.rinterface_lib.callbacks:R[write to console]: =\n",
            "WARNING:rpy2.rinterface_lib.callbacks:R[write to console]: =\n",
            "WARNING:rpy2.rinterface_lib.callbacks:R[write to console]: =\n",
            "WARNING:rpy2.rinterface_lib.callbacks:R[write to console]: =\n",
            "WARNING:rpy2.rinterface_lib.callbacks:R[write to console]: =\n",
            "WARNING:rpy2.rinterface_lib.callbacks:R[write to console]: =\n",
            "WARNING:rpy2.rinterface_lib.callbacks:R[write to console]: =\n",
            "WARNING:rpy2.rinterface_lib.callbacks:R[write to console]: =\n",
            "WARNING:rpy2.rinterface_lib.callbacks:R[write to console]: =\n",
            "WARNING:rpy2.rinterface_lib.callbacks:R[write to console]: =\n",
            "WARNING:rpy2.rinterface_lib.callbacks:R[write to console]: =\n",
            "WARNING:rpy2.rinterface_lib.callbacks:R[write to console]: =\n",
            "WARNING:rpy2.rinterface_lib.callbacks:R[write to console]: =\n",
            "WARNING:rpy2.rinterface_lib.callbacks:R[write to console]: =\n",
            "WARNING:rpy2.rinterface_lib.callbacks:R[write to console]: =\n",
            "WARNING:rpy2.rinterface_lib.callbacks:R[write to console]: =\n",
            "WARNING:rpy2.rinterface_lib.callbacks:R[write to console]: =\n",
            "WARNING:rpy2.rinterface_lib.callbacks:R[write to console]: =\n",
            "WARNING:rpy2.rinterface_lib.callbacks:R[write to console]: =\n",
            "WARNING:rpy2.rinterface_lib.callbacks:R[write to console]: =\n",
            "WARNING:rpy2.rinterface_lib.callbacks:R[write to console]: \n",
            "\n",
            "WARNING:rpy2.rinterface_lib.callbacks:R[write to console]: downloaded 842 KB\n",
            "\n",
            "\n",
            "WARNING:rpy2.rinterface_lib.callbacks:R[write to console]: \n",
            "\n",
            "WARNING:rpy2.rinterface_lib.callbacks:R[write to console]: \n",
            "WARNING:rpy2.rinterface_lib.callbacks:R[write to console]: The downloaded source packages are in\n",
            "\t‘/tmp/RtmpNhBswc/downloaded_packages’\n",
            "WARNING:rpy2.rinterface_lib.callbacks:R[write to console]: \n",
            "WARNING:rpy2.rinterface_lib.callbacks:R[write to console]: \n",
            "\n"
          ]
        }
      ]
    },
    {
      "cell_type": "code",
      "source": [
        "%%R\n",
        "# Subset data for the last three years\n",
        "df_merged <- df_merged %>%\n",
        "  filter(Season %in% c(\"2021\", \"2022\", \"2023\"))\n",
        "\n",
        "# Check the unique seasons\n",
        "unique(df_merged$Season)\n"
      ],
      "metadata": {
        "colab": {
          "base_uri": "https://localhost:8080/"
        },
        "id": "_mW-luYEsroU",
        "outputId": "84516198-5415-46aa-9feb-833e83e3c8e1"
      },
      "id": "_mW-luYEsroU",
      "execution_count": 75,
      "outputs": [
        {
          "output_type": "stream",
          "name": "stdout",
          "text": [
            "[1] \"2023\" \"2022\" \"2021\"\n"
          ]
        }
      ]
    },
    {
      "cell_type": "code",
      "source": [
        "%%R\n",
        "print(colnames(df_merged))"
      ],
      "metadata": {
        "colab": {
          "base_uri": "https://localhost:8080/"
        },
        "id": "xq_wbzwC_SYt",
        "outputId": "f9835494-1efa-4b13-9fbf-68c9735e6749"
      },
      "id": "xq_wbzwC_SYt",
      "execution_count": 76,
      "outputs": [
        {
          "output_type": "stream",
          "name": "stdout",
          "text": [
            "[1] \"Matched_Player\" \"Player\"         \"Salary\"         \"Rs\"            \n",
            "[5] \"international\"  \"iconic\"         \"Season\"         \"total_runs\"    \n"
          ]
        }
      ]
    },
    {
      "cell_type": "code",
      "source": [
        "%%R\n",
        "# Independent and dependent variables\n",
        "X <- df_merged$total_runs\n",
        "y <- df_merged$Rs\n",
        "\n",
        "# Split the data into training and test sets (80% for training, 20% for testing)\n",
        "set.seed(42)\n",
        "train_indices <- sample(seq_len(nrow(df_merged)), size = 0.8 * nrow(df_merged))\n",
        "train_data <- df_merged[train_indices, ]\n",
        "test_data <- df_merged[-train_indices, ]\n",
        "\n",
        "# OLS regression model\n",
        "model <- lm(Rs ~ total_runs, data = train_data)\n",
        "\n",
        "# Summary of the regression model\n",
        "summary(model)\n",
        "\n",
        "# Using the broom package to get tidy output\n",
        "tidy_model <- broom::tidy(model)\n",
        "print(tidy_model)\n",
        "\n",
        "# Predicting on the test set\n",
        "predictions <- predict(model, newdata = test_data)\n",
        "\n",
        "# Calculate R-squared and Mean Absolute Percentage Error\n",
        "r_squared <- summary(model)$r.squared\n",
        "mape <- mean(abs((test_data$Rs - predictions) / test_data$Rs)) * 100\n",
        "\n",
        "# Print metrics\n",
        "cat(\"R-squared:\", r_squared, \"\\n\")\n",
        "cat(\"MAPE:\", mape, \"\\n\")\n"
      ],
      "metadata": {
        "colab": {
          "base_uri": "https://localhost:8080/"
        },
        "id": "6NxU8WQ1tlPs",
        "outputId": "1c1c88dc-2444-4115-e71f-e0296d2b593b"
      },
      "id": "6NxU8WQ1tlPs",
      "execution_count": 77,
      "outputs": [
        {
          "output_type": "stream",
          "name": "stdout",
          "text": [
            "# A tibble: 2 × 5\n",
            "  term        estimate std.error statistic       p.value\n",
            "  <chr>          <dbl>     <dbl>     <dbl>         <dbl>\n",
            "1 (Intercept)   335.      53.4        6.28 0.00000000700\n",
            "2 total_runs      1.08     0.234      4.63 0.0000103    \n",
            "R-squared: 0.1642022 \n",
            "MAPE: 429.0071 \n"
          ]
        }
      ]
    },
    {
      "cell_type": "code",
      "source": [
        "%%R\n",
        "# Function to match names using stringdist package\n",
        "match_names <- function(name, names_list) {\n",
        "  dist <- stringdist::stringdist(name, names_list, method = \"jw\")\n",
        "  match <- names_list[which.min(dist)]\n",
        "  score <- 1 - min(dist)\n",
        "  return(ifelse(score >= 0.8, match, NA)) # Use a threshold score of 0.8\n",
        "}\n",
        "\n",
        "# Apply fuzzy matching to match names for wicket\n",
        "salary$Matched_Player <- sapply(salary$Player, match_names, names_list =total_wickets$Bowler)\n",
        "\n",
        "# Merge the DataFrames on the matched names\n",
        "df_merged <- merge(salary,total_wicket_each_year, by.x = \"Matched_Player\", by.y = \"Bowler\")\n"
      ],
      "metadata": {
        "colab": {
          "base_uri": "https://localhost:8080/"
        },
        "collapsed": true,
        "id": "6QHTXKPa_prL",
        "outputId": "ff9995ba-3dd5-44e4-e109-cbd94d691ecd"
      },
      "id": "6QHTXKPa_prL",
      "execution_count": 60,
      "outputs": [
        {
          "output_type": "stream",
          "name": "stderr",
          "text": [
            "WARNING:rpy2.rinterface_lib.callbacks:R[write to console]: Error in (function (expr, envir = parent.frame(), enclos = if (is.list(envir) ||  : \n",
            "  object 'total_wickets' not found\n",
            "\n"
          ]
        },
        {
          "output_type": "stream",
          "name": "stdout",
          "text": [
            "\n",
            "Error in (function (expr, envir = parent.frame(), enclos = if (is.list(envir) ||  : \n",
            "  object 'total_wickets' not found\n"
          ]
        }
      ]
    },
    {
      "cell_type": "code",
      "source": [
        "%%R\n",
        "# Independent and dependent variables in wickets\n",
        "X <- df_merged$total_wickets\n",
        "y <- df_merged$Rs\n",
        "\n",
        "# Split the data into training and test sets (80% for training, 20% for testing)\n",
        "set.seed(42)\n",
        "train_indices <- sample(seq_len(nrow(df_merged)), size = 0.8 * nrow(df_merged))\n",
        "train_data <- df_merged[train_indices, ]\n",
        "test_data <- df_merged[-train_indices, ]\n",
        "\n",
        "# OLS regression model\n",
        "model <- lm(Rs ~ total_wickets, data = train_data)\n",
        "\n",
        "# Summary of the regression model\n",
        "summary(model)\n",
        "\n",
        "# Using the broom package to get tidy output\n",
        "tidy_model <- broom::tidy(model)\n",
        "print(tidy_model)\n",
        "\n",
        "# Predicting on the test set\n",
        "predictions <- predict(model, newdata = test_data)\n",
        "\n",
        "# Calculate R-squared and Mean Absolute Percentage Error\n",
        "r_squared <- summary(model)$r.squared\n",
        "mape <- mean(abs((test_data$Rs - predictions) / test_data$Rs)) * 100\n",
        "\n",
        "# Print metrics\n",
        "cat(\"R-squared:\", r_squared, \"\\n\")\n",
        "cat(\"MAPE:\", mape, \"\\n\")"
      ],
      "metadata": {
        "colab": {
          "base_uri": "https://localhost:8080/"
        },
        "collapsed": true,
        "id": "dSqWmniK9vrM",
        "outputId": "a60e8699-933b-4f3d-b59c-36981350df15"
      },
      "id": "dSqWmniK9vrM",
      "execution_count": 78,
      "outputs": [
        {
          "output_type": "stream",
          "name": "stderr",
          "text": [
            "WARNING:rpy2.rinterface_lib.callbacks:R[write to console]: Error in eval(predvars, data, env) : object 'total_wickets' not found\n",
            "\n"
          ]
        },
        {
          "output_type": "stream",
          "name": "stdout",
          "text": [
            "\n",
            "Error in eval(predvars, data, env) : object 'total_wickets' not found\n"
          ]
        }
      ]
    },
    {
      "cell_type": "code",
      "source": [
        "#OLS for predicting salary of bowlers\n"
      ],
      "metadata": {
        "id": "2GAi0OL_9wSd"
      },
      "id": "2GAi0OL_9wSd",
      "execution_count": 78,
      "outputs": []
    }
  ],
  "metadata": {
    "kernelspec": {
      "display_name": "Python 3 (ipykernel)",
      "language": "python",
      "name": "python3"
    },
    "language_info": {
      "codemirror_mode": {
        "name": "ipython",
        "version": 3
      },
      "file_extension": ".py",
      "mimetype": "text/x-python",
      "name": "python",
      "nbconvert_exporter": "python",
      "pygments_lexer": "ipython3",
      "version": "3.11.5"
    },
    "varInspector": {
      "cols": {
        "lenName": 16,
        "lenType": 16,
        "lenVar": 40
      },
      "kernels_config": {
        "python": {
          "delete_cmd_postfix": "",
          "delete_cmd_prefix": "del ",
          "library": "var_list.py",
          "varRefreshCmd": "print(var_dic_list())"
        },
        "r": {
          "delete_cmd_postfix": ") ",
          "delete_cmd_prefix": "rm(",
          "library": "var_list.r",
          "varRefreshCmd": "cat(var_dic_list()) "
        }
      },
      "types_to_exclude": [
        "module",
        "function",
        "builtin_function_or_method",
        "instance",
        "_Feature"
      ],
      "window_display": false
    },
    "colab": {
      "provenance": []
    }
  },
  "nbformat": 4,
  "nbformat_minor": 5
}