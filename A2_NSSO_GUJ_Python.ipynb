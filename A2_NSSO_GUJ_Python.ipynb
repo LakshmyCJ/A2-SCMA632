{
  "nbformat": 4,
  "nbformat_minor": 0,
  "metadata": {
    "colab": {
      "provenance": []
    },
    "kernelspec": {
      "name": "python3",
      "display_name": "Python 3"
    },
    "language_info": {
      "name": "python"
    }
  },
  "cells": [
    {
      "cell_type": "code",
      "execution_count": 1,
      "metadata": {
        "id": "93YINswkGM25"
      },
      "outputs": [],
      "source": [
        "import pandas as pd\n",
        "import numpy as np\n",
        "import statsmodels.api as sm\n",
        "import statsmodels.formula.api as smf\n",
        "import matplotlib.pyplot as plt\n",
        "import seaborn as sns\n",
        "from sklearn.model_selection import train_test_split\n",
        "from sklearn.metrics import mean_squared_error"
      ]
    },
    {
      "cell_type": "code",
      "source": [
        "data = pd.read_csv(\"/content/NSSO68.csv\")"
      ],
      "metadata": {
        "id": "xw4neOcVGfMI"
      },
      "execution_count": 4,
      "outputs": []
    },
    {
      "cell_type": "code",
      "source": [
        "#subset daa for GUJ\n",
        "subset_data = data[data['state_1'] == 'GUJ'][['foodtotal_q', 'MPCE_MRP', 'MPCE_URP', 'Age', 'Meals_At_Home', 'Possess_ration_card', 'Education', 'No_of_Meals_per_day']]\n",
        "print(subset_data.head())"
      ],
      "metadata": {
        "colab": {
          "base_uri": "https://localhost:8080/"
        },
        "id": "qSc5eWb-Gh9r",
        "outputId": "8e6b266a-9121-4a74-dcfa-c7233d24e2ce"
      },
      "execution_count": 5,
      "outputs": [
        {
          "output_type": "stream",
          "name": "stdout",
          "text": [
            "   foodtotal_q  MPCE_MRP  MPCE_URP  Age  Meals_At_Home  Possess_ration_card  \\\n",
            "0    30.942394   3662.65   3304.80   50           59.0                    1   \n",
            "1    29.286153   5624.51   7613.00   40           56.0                    1   \n",
            "2    31.527046   3657.18   3461.40   45           60.0                    1   \n",
            "3    27.834607   3260.37   3339.00   75           60.0                    1   \n",
            "4    27.600713   2627.54   2604.25   30           59.0                    1   \n",
            "\n",
            "   Education  No_of_Meals_per_day  \n",
            "0          8                    2  \n",
            "1         12                    2  \n",
            "2          7                    2  \n",
            "3          6                    2  \n",
            "4          7                    2  \n"
          ]
        }
      ]
    },
    {
      "cell_type": "code",
      "source": [
        "# Check for missing values\n",
        "print(subset_data.isnull().sum())"
      ],
      "metadata": {
        "colab": {
          "base_uri": "https://localhost:8080/"
        },
        "id": "mF7WkzlRGpk0",
        "outputId": "73e31a85-e284-419f-be61-6422e623dfab"
      },
      "execution_count": 6,
      "outputs": [
        {
          "output_type": "stream",
          "name": "stdout",
          "text": [
            "foodtotal_q            0\n",
            "MPCE_MRP               0\n",
            "MPCE_URP               0\n",
            "Age                    0\n",
            "Meals_At_Home          0\n",
            "Possess_ration_card    0\n",
            "Education              0\n",
            "No_of_Meals_per_day    0\n",
            "dtype: int64\n"
          ]
        }
      ]
    },
    {
      "cell_type": "code",
      "source": [
        "# Drop rows with any missing values\n",
        "subset_data.dropna(inplace=True)"
      ],
      "metadata": {
        "id": "xnMcE2kDG9fH"
      },
      "execution_count": 7,
      "outputs": []
    },
    {
      "cell_type": "code",
      "source": [
        "# Define the independent variables (X) and dependent variable (y)\n",
        "X = subset_data[['MPCE_URP', 'Age', 'Meals_At_Home', 'Possess_ration_card', 'Education', 'foodtotal_q']]\n",
        "y = subset_data['MPCE_MRP']\n",
        "# Add constant to the features\n",
        "X = sm.add_constant(X)\n",
        "\n",
        "# Split data into training and test sets (80% training, 20% testing)\n",
        "X_train, X_test, y_train, y_test = train_test_split(X, y, test_size=0.2, random_state=42)"
      ],
      "metadata": {
        "id": "KOn-iZLJG_iK"
      },
      "execution_count": 9,
      "outputs": []
    },
    {
      "cell_type": "code",
      "source": [
        "# Fit the OLS model\n",
        "model = sm.OLS(y_train, X_train).fit()\n",
        "\n",
        "# Print model summary\n",
        "print(model.summary())"
      ],
      "metadata": {
        "colab": {
          "base_uri": "https://localhost:8080/"
        },
        "id": "LZ3TBhzpMz3R",
        "outputId": "fa4dfdaa-b0a1-4e7f-e179-8d38a3544117"
      },
      "execution_count": 10,
      "outputs": [
        {
          "output_type": "stream",
          "name": "stdout",
          "text": [
            "                            OLS Regression Results                            \n",
            "==============================================================================\n",
            "Dep. Variable:               MPCE_MRP   R-squared:                       0.509\n",
            "Model:                            OLS   Adj. R-squared:                  0.504\n",
            "Method:                 Least Squares   F-statistic:                     100.9\n",
            "Date:                Sun, 23 Jun 2024   Prob (F-statistic):           5.97e-87\n",
            "Time:                        17:45:07   Log-Likelihood:                -5115.4\n",
            "No. Observations:                 592   AIC:                         1.024e+04\n",
            "Df Residuals:                     585   BIC:                         1.028e+04\n",
            "Df Model:                           6                                         \n",
            "Covariance Type:            nonrobust                                         \n",
            "=======================================================================================\n",
            "                          coef    std err          t      P>|t|      [0.025      0.975]\n",
            "---------------------------------------------------------------------------------------\n",
            "const                 640.1751    428.918      1.493      0.136    -202.231    1482.581\n",
            "MPCE_URP                0.3823      0.029     13.116      0.000       0.325       0.440\n",
            "Age                    -1.9103      4.366     -0.437      0.662     -10.486       6.665\n",
            "Meals_At_Home         -28.2814      4.895     -5.778      0.000     -37.895     -18.668\n",
            "Possess_ration_card   244.9228    167.782      1.460      0.145     -84.606     574.452\n",
            "Education             118.5556     18.534      6.397      0.000      82.155     154.956\n",
            "foodtotal_q            63.9783      7.605      8.412      0.000      49.041      78.915\n",
            "==============================================================================\n",
            "Omnibus:                      681.909   Durbin-Watson:                   2.054\n",
            "Prob(Omnibus):                  0.000   Jarque-Bera (JB):            68617.647\n",
            "Skew:                           5.355   Prob(JB):                         0.00\n",
            "Kurtosis:                      54.644   Cond. No.                     2.73e+04\n",
            "==============================================================================\n",
            "\n",
            "Notes:\n",
            "[1] Standard Errors assume that the covariance matrix of the errors is correctly specified.\n",
            "[2] The condition number is large, 2.73e+04. This might indicate that there are\n",
            "strong multicollinearity or other numerical problems.\n"
          ]
        }
      ]
    },
    {
      "cell_type": "code",
      "source": [
        "# Check for multicollinearity using VIF\n",
        "def calculate_vif(X):\n",
        "    vif = pd.DataFrame()\n",
        "    vif[\"Variable\"] = X.columns\n",
        "    vif[\"VIF\"] = [variance_inflation_factor(X.values, i) for i in range(X.shape[1])]\n",
        "    return vif"
      ],
      "metadata": {
        "id": "uJhL8WYXM6Lx"
      },
      "execution_count": 13,
      "outputs": []
    },
    {
      "cell_type": "code",
      "source": [
        "# ipython-input-13-7d005dd0a72d\n",
        "!pip install statsmodels\n",
        "import statsmodels.api as sm\n",
        "from statsmodels.stats.outliers_influence import variance_inflation_factor\n",
        "\n",
        "# Check for multicollinearity using VIF\n",
        "def calculate_vif(X):\n",
        "    vif = pd.DataFrame()\n",
        "    vif[\"Variable\"] = X.columns\n",
        "    vif[\"VIF\"] = [variance_inflation_factor(X.values, i) for i in range(X.shape[1])]\n",
        "    return vif"
      ],
      "metadata": {
        "colab": {
          "base_uri": "https://localhost:8080/"
        },
        "collapsed": true,
        "id": "3S-NBZmzNQjb",
        "outputId": "0ba36f36-c9ac-4432-8a2d-a3286074266d"
      },
      "execution_count": 14,
      "outputs": [
        {
          "output_type": "stream",
          "name": "stdout",
          "text": [
            "Requirement already satisfied: statsmodels in /usr/local/lib/python3.10/dist-packages (0.14.2)\n",
            "Requirement already satisfied: numpy>=1.22.3 in /usr/local/lib/python3.10/dist-packages (from statsmodels) (1.25.2)\n",
            "Requirement already satisfied: scipy!=1.9.2,>=1.8 in /usr/local/lib/python3.10/dist-packages (from statsmodels) (1.11.4)\n",
            "Requirement already satisfied: pandas!=2.1.0,>=1.4 in /usr/local/lib/python3.10/dist-packages (from statsmodels) (2.0.3)\n",
            "Requirement already satisfied: patsy>=0.5.6 in /usr/local/lib/python3.10/dist-packages (from statsmodels) (0.5.6)\n",
            "Requirement already satisfied: packaging>=21.3 in /usr/local/lib/python3.10/dist-packages (from statsmodels) (24.1)\n",
            "Requirement already satisfied: python-dateutil>=2.8.2 in /usr/local/lib/python3.10/dist-packages (from pandas!=2.1.0,>=1.4->statsmodels) (2.8.2)\n",
            "Requirement already satisfied: pytz>=2020.1 in /usr/local/lib/python3.10/dist-packages (from pandas!=2.1.0,>=1.4->statsmodels) (2023.4)\n",
            "Requirement already satisfied: tzdata>=2022.1 in /usr/local/lib/python3.10/dist-packages (from pandas!=2.1.0,>=1.4->statsmodels) (2024.1)\n",
            "Requirement already satisfied: six in /usr/local/lib/python3.10/dist-packages (from patsy>=0.5.6->statsmodels) (1.16.0)\n"
          ]
        }
      ]
    },
    {
      "cell_type": "code",
      "source": [
        "# Calculate VIF for independent variables\n",
        "vif_data = X_train.drop(columns=['const'])  # Exclude the constant column\n",
        "vif_scores = calculate_vif(vif_data)\n",
        "print(vif_scores)\n"
      ],
      "metadata": {
        "colab": {
          "base_uri": "https://localhost:8080/"
        },
        "id": "_TI-jHSqM80y",
        "outputId": "c0e57628-04ad-49e9-fc65-248c31910633"
      },
      "execution_count": 15,
      "outputs": [
        {
          "output_type": "stream",
          "name": "stdout",
          "text": [
            "              Variable        VIF\n",
            "0             MPCE_URP   3.198491\n",
            "1                  Age  10.318819\n",
            "2        Meals_At_Home  17.285133\n",
            "3  Possess_ration_card   7.822056\n",
            "4            Education   5.909523\n",
            "5          foodtotal_q  12.272383\n"
          ]
        }
      ]
    },
    {
      "cell_type": "code",
      "source": [
        "# Extract coefficients from the model\n",
        "coefficients = model.params\n",
        "\n",
        "# Construct the equation\n",
        "equation = \"y = {:.2f}\".format(coefficients['const'])\n",
        "for i in range(1, len(coefficients)):\n",
        "    equation += \" + {:.6f}*{}\".format(coefficients[i], X_train.columns[i])\n",
        "\n",
        "# Print the equation\n",
        "print(equation)"
      ],
      "metadata": {
        "colab": {
          "base_uri": "https://localhost:8080/"
        },
        "id": "fG0n_EKKM-w-",
        "outputId": "0fd2924b-18ca-47c0-a857-3575c0085ece"
      },
      "execution_count": 16,
      "outputs": [
        {
          "output_type": "stream",
          "name": "stdout",
          "text": [
            "y = 640.18 + 0.382287*MPCE_URP + -1.910274*Age + -28.281442*Meals_At_Home + 244.922842*Possess_ration_card + 118.555642*Education + 63.978323*foodtotal_q\n"
          ]
        }
      ]
    }
  ]
}